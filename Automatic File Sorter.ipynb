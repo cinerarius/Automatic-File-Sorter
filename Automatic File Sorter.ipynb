{
 "cells": [
  {
   "cell_type": "code",
   "execution_count": 29,
   "id": "0bfa628b-b0ee-4b24-9802-53cff99a8b50",
   "metadata": {},
   "outputs": [],
   "source": [
    "import os, shutil\n",
    "path = 'C:/Users/PC/Documents/PythonPrograms/'\n",
    "file_name = os.listdir(path)\n",
    "folder_type = ('text', 'image', 'csv')\n",
    "for folder in folder_type:\n",
    "    isExist = os.path.exists(path + folder)\n",
    "    if not isExist:\n",
    "        os.mkdir(path + folder)\n",
    "    else:\n",
    "        pass\n",
    "for file in file_name:\n",
    "    if \".txt\" in file and not os.path.exists(path + \"text/\" + file):\n",
    "        shutil.move(path + file, path + \"text/\" + file)\n",
    "        print(\"Moved\")\n",
    "    elif \".csv\" in file and not os.path.exists(path + \"csv/\" + file):\n",
    "        shutil.move(path + file, path + \"csv/\" + file)\n",
    "        print(\"Moved\")\n",
    "    elif \".PNG\" in file and not os.path.exists(path + \"image/\" + file):\n",
    "        shutil.move(path + file, path + \"image/\" + file)\n",
    "        print(\"Moved\")"
   ]
  }
 ],
 "metadata": {
  "kernelspec": {
   "display_name": "Python 3 (ipykernel)",
   "language": "python",
   "name": "python3"
  },
  "language_info": {
   "codemirror_mode": {
    "name": "ipython",
    "version": 3
   },
   "file_extension": ".py",
   "mimetype": "text/x-python",
   "name": "python",
   "nbconvert_exporter": "python",
   "pygments_lexer": "ipython3",
   "version": "3.12.2"
  }
 },
 "nbformat": 4,
 "nbformat_minor": 5
}
